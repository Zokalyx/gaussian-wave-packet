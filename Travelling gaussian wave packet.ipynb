{
 "cells": [
  {
   "cell_type": "code",
   "execution_count": 30,
   "metadata": {},
   "outputs": [
    {
     "data": {
      "application/vnd.jupyter.widget-view+json": {
       "model_id": "8826c23d96ec4056bfd3ca36a5eede86",
       "version_major": 2,
       "version_minor": 0
      },
      "text/plain": [
       "interactive(children=(FloatSlider(value=2.4000000000000004, description='t', max=5.0, step=0.2), IntSlider(val…"
      ]
     },
     "metadata": {},
     "output_type": "display_data"
    }
   ],
   "source": [
    "import math\n",
    "import matplotlib.pyplot as mp\n",
    "from ipywidgets import interact\n",
    "import ipywidgets as wg\n",
    "e = math.e\n",
    "pi = math.pi\n",
    "def wavepacket(t,m,a,l,h):\n",
    "    common = complex(1, 2*h*a*t/m)\n",
    "    normal = 2*a/pi ** 0.25\n",
    "    xvals = []\n",
    "    revals = []\n",
    "    imvals = []\n",
    "    x = 0\n",
    "    end = 10\n",
    "    while x < end:\n",
    "        toptop = complex(-a*x**2, l*x-h*l**2*t/2/m)\n",
    "        topok = toptop/common\n",
    "        value = normal*(e**topok)/(common**0.5)\n",
    "        xvals.append(x)\n",
    "        revals.append(value.real)\n",
    "        #imvals.append(value.imag)\n",
    "        x += 0.05\n",
    "    mp.plot(xvals,revals)\n",
    "    #mp.plot(xvals,imvals)\n",
    "    mp.ylim(-0.5,0.5)\n",
    "interact (wavepacket,t=(0.0,5.0,0.2),m=(0,10),a=(0,1,0.25),l=(0,3),h=(0,10));"
   ]
  },
  {
   "cell_type": "code",
   "execution_count": null,
   "metadata": {},
   "outputs": [],
   "source": []
  },
  {
   "cell_type": "code",
   "execution_count": null,
   "metadata": {},
   "outputs": [],
   "source": []
  },
  {
   "cell_type": "code",
   "execution_count": null,
   "metadata": {},
   "outputs": [],
   "source": []
  }
 ],
 "metadata": {
  "kernelspec": {
   "display_name": "Python 3",
   "language": "python",
   "name": "python3"
  },
  "language_info": {
   "codemirror_mode": {
    "name": "ipython",
    "version": 3
   },
   "file_extension": ".py",
   "mimetype": "text/x-python",
   "name": "python",
   "nbconvert_exporter": "python",
   "pygments_lexer": "ipython3",
   "version": "3.6.5"
  }
 },
 "nbformat": 4,
 "nbformat_minor": 2
}
